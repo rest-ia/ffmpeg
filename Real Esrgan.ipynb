{
 "cells": [
  {
   "cell_type": "code",
   "execution_count": null,
   "id": "75da43c2-7fcf-4fbd-a68a-7cca5b546101",
   "metadata": {
    "collapsed": true,
    "jupyter": {
     "outputs_hidden": true
    },
    "tags": []
   },
   "outputs": [],
   "source": [
    "# Clone Real-ESRGAN and enter the Real-ESRGAN\n",
    "!git clone https://github.com/xinntao/Real-ESRGAN.git\n",
    "%cd Real-ESRGAN\n",
    "# Set up the environment\n",
    "!pip install basicsr -y\n",
    "!pip install facexlib -y\n",
    "!pip install gfpgan -y\n",
    "!pip install -r requirements.txt -y\n",
    "!python setup.py develop -y"
   ]
  },
  {
   "cell_type": "code",
   "execution_count": 19,
   "id": "dd45638d-1d00-4610-9b5c-b29b5f55b5e7",
   "metadata": {
    "tags": []
   },
   "outputs": [
    {
     "name": "stdout",
     "output_type": "stream",
     "text": [
      "Directorio actual: /home/studio-lab-user/Real-ESRGAN\n",
      "Nuevo directorio: /home/studio-lab-user\n"
     ]
    }
   ],
   "source": [
    "import os\n",
    "\n",
    "# Obtén el directorio actual\n",
    "current_dir = os.getcwd()\n",
    "print(f'Directorio actual: {current_dir}')\n",
    "\n",
    "# Sube un nivel en el directorio\n",
    "os.chdir('..')\n",
    "\n",
    "# Verifica el cambio\n",
    "new_dir = os.getcwd()\n",
    "print(f'Nuevo directorio: {new_dir}')\n"
   ]
  },
  {
   "cell_type": "code",
   "execution_count": null,
   "id": "5a616f75",
   "metadata": {},
   "outputs": [],
   "source": [
    "#degradations.py\n",
    "#from torchvision.transforms.functional import rgb_to_grayscale"
   ]
  },
  {
   "cell_type": "code",
   "execution_count": null,
   "id": "8ae86496-6fce-40f5-b086-7be59d017736",
   "metadata": {
    "tags": []
   },
   "outputs": [],
   "source": [
    "# if it is out of memory, try to use the `--tile` option\n",
    "# We upsample the image with the scale factor X3.5\n",
    "\n",
    "!python Real-ESRGAN/inference_realesrgan.py -n realesr-animevideov3 -i f1/ --outscale 4\n",
    "# Arguments\n",
    "# -n, --model_name: Model names\n",
    "# -i, --input: input folder or image\n",
    "# --outscale: Output scale, can be arbitrary scale factore."
   ]
  },
  {
   "cell_type": "code",
   "execution_count": null,
   "id": "f2fa95cd-e9de-452c-bf50-cdbf13efac4e",
   "metadata": {
    "collapsed": true,
    "jupyter": {
     "outputs_hidden": true
    },
    "tags": []
   },
   "outputs": [],
   "source": [
    "import os\n",
    "print(os.getcwd())\n",
    "%cd Real-ESRGAN\n",
    "!python setup.py develop"
   ]
  }
 ],
 "metadata": {
  "kernelspec": {
   "display_name": "default:Python",
   "language": "python",
   "name": "conda-env-default-py"
  },
  "language_info": {
   "codemirror_mode": {
    "name": "ipython",
    "version": 3
   },
   "file_extension": ".py",
   "mimetype": "text/x-python",
   "name": "python",
   "nbconvert_exporter": "python",
   "pygments_lexer": "ipython3",
   "version": "3.9.16"
  }
 },
 "nbformat": 4,
 "nbformat_minor": 5
}
